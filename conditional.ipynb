{
 "cells": [
  {
   "cell_type": "code",
   "execution_count": 1,
   "metadata": {},
   "outputs": [
    {
     "name": "stdout",
     "output_type": "stream",
     "text": [
      " \n",
      "test, sokağa çıkabilirsiniz...\n",
      " \n",
      " \n",
      "güneş, çok tehlikeli sokağa çıkamazsınız!\n",
      " \n",
      "[['test', 'test', 24, 1998], ['güneş', 'ışık', 15, 2006]]\n"
     ]
    }
   ],
   "source": [
    "mylist = []\n",
    "n = int(input(\"Kaç Elemanlı Olacak? : \")) \n",
    "for i in range(0, n): \n",
    "    ad = input(\"Adınız :\")\n",
    "    soyad = input(\"Soyadınız :\")\n",
    "    yas= int(input(\"Yaşınız :\"))\n",
    "    DogumYili=int(input(\"Doğum Yılınız :\"))\n",
    "    print(\" \")\n",
    "    if (yas >= 18):\n",
    "        if (DogumYili <= 2002): \n",
    "            print(f'{ad}, sokağa çıkabilirsiniz...')\n",
    "            print(\" \")\n",
    "        else:\n",
    "            print(f'{ad}, 2002 yılından küçüksün , çıkamazsınız!')\n",
    "            print(\" \")\n",
    "    else:\n",
    "        print(f'{ad}, çok tehlikeli sokağa çıkamazsınız!') \n",
    "        print(\" \")\n",
    "    mylist.append([ad,soyad,yas,DogumYili])\n",
    "print(mylist)"
   ]
  },
  {
   "cell_type": "markdown",
   "metadata": {},
   "source": []
  }
 ],
 "metadata": {
  "kernelspec": {
   "display_name": "Python 3",
   "language": "python",
   "name": "python3"
  },
  "language_info": {
   "codemirror_mode": {
    "name": "ipython",
    "version": 3
   },
   "file_extension": ".py",
   "mimetype": "text/x-python",
   "name": "python",
   "nbconvert_exporter": "python",
   "pygments_lexer": "ipython3",
   "version": "3.9.9"
  }
 },
 "nbformat": 4,
 "nbformat_minor": 4
}
