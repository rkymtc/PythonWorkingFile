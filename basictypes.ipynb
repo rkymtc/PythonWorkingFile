{
 "cells": [
  {
   "cell_type": "code",
   "execution_count": 1,
   "metadata": {},
   "outputs": [
    {
     "name": "stdout",
     "output_type": "stream",
     "text": [
      "Merhaba, senin adin:test, senin yasin:56, senin boyun:1.89, senin kilon:85, senin cinsiyetin:erkek\n",
      " ad: <class 'str'> \n",
      " yas: <class 'int'> \n",
      " boy: <class 'float'> \n",
      " kilo: <class 'int'> \n",
      " cinsiyet: <class 'str'>\n"
     ]
    }
   ],
   "source": [
    "ad=\"test\"\n",
    "yas=56\n",
    "boy=1.89\n",
    "kilo=85\n",
    "cinsiyet=\"erkek\"\n",
    "\n",
    "\n",
    "print((\"Merhaba, senin adin:{}, senin yasin:{}, senin boyun:{}, senin kilon:{}, senin cinsiyetin:{}\").format(ad,yas,boy,kilo,cinsiyet))\n",
    "print(\" ad: {} \\n yas: {} \\n boy: {} \\n kilo: {} \\n cinsiyet: {}\".format(type(ad), type(yas), type(boy), type(kilo), type(cinsiyet)))"
   ]
  },
  {
   "cell_type": "code",
   "execution_count": 2,
   "metadata": {},
   "outputs": [
    {
     "data": {
      "text/plain": [
       "'Senin adın test, 56 yaşında, 1.89 boyunda, 85 kilodasın ve cinsiyetin erkek'"
      ]
     },
     "execution_count": 2,
     "metadata": {},
     "output_type": "execute_result"
    }
   ],
   "source": [
    "f'Senin adın {ad}, {yas} yaşında, {boy} boyunda, {kilo} kilodasın ve cinsiyetin {cinsiyet}'"
   ]
  }
 ],
 "metadata": {
  "kernelspec": {
   "display_name": "Python 3",
   "language": "python",
   "name": "python3"
  },
  "language_info": {
   "codemirror_mode": {
    "name": "ipython",
    "version": 3
   },
   "file_extension": ".py",
   "mimetype": "text/x-python",
   "name": "python",
   "nbconvert_exporter": "python",
   "pygments_lexer": "ipython3",
   "version": "3.9.9"
  }
 },
 "nbformat": 4,
 "nbformat_minor": 4
}
