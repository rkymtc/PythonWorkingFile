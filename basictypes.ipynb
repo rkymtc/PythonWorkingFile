{
 "cells": [
  {
   "cell_type": "code",
   "execution_count": 4,
   "metadata": {},
   "outputs": [
    {
     "name": "stdout",
     "output_type": "stream",
     "text": [
      "Merhaba, senin adin:rukiye, senin yasin:24, senin boyun:1.63, senin kilon:49.6, senin cinsiyetin:kadın\n",
      " ad: <class 'str'> \n",
      " yas: <class 'int'> \n",
      " boy: <class 'float'> \n",
      " kilo: <class 'float'> \n",
      " cinsiyet: <class 'str'>\n"
     ]
    }
   ],
   "source": [
    "ad=\"test\"\n",
    "yas=56\n",
    "boy=1.89\n",
    "kilo=85\n",
    "cinsiyet=\"erkek\"\n",
    "\n",
    "\n",
    "print((\"Merhaba, senin adin:{}, senin yasin:{}, senin boyun:{}, senin kilon:{}, senin cinsiyetin:{}\").format(ad,yas,boy,kilo,cinsiyet))\n",
    "print(\" ad: {} \\n yas: {} \\n boy: {} \\n kilo: {} \\n cinsiyet: {}\".format(type(ad), type(yas), type(boy), type(kilo), type(cinsiyet)))"
   ]
  },
  {
   "cell_type": "code",
   "execution_count": 5,
   "metadata": {},
   "outputs": [
    {
     "data": {
      "text/plain": [
       "'Senin adın rukiye, 24 yaşında, 1.63 boyunda, 49.6 kilodasın ve cinsiyetin kadın'"
      ]
     },
     "execution_count": 5,
     "metadata": {},
     "output_type": "execute_result"
    }
   ],
   "source": [
    "f'Senin adın {ad}, {yas} yaşında, {boy} boyunda, {kilo} kilodasın ve cinsiyetin {cinsiyet}'"
   ]
  }
 ],
 "metadata": {
  "kernelspec": {
   "display_name": "Python 3",
   "language": "python",
   "name": "python3"
  },
  "language_info": {
   "codemirror_mode": {
    "name": "ipython",
    "version": 3
   },
   "file_extension": ".py",
   "mimetype": "text/x-python",
   "name": "python",
   "nbconvert_exporter": "python",
   "pygments_lexer": "ipython3",
   "version": "3.8.3"
  }
 },
 "nbformat": 4,
 "nbformat_minor": 4
}
